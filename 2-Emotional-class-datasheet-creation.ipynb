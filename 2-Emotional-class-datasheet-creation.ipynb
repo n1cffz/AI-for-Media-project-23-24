{
 "cells": [
  {
   "cell_type": "markdown",
   "metadata": {},
   "source": [
    "# 2. Data sheet for class images"
   ]
  },
  {
   "cell_type": "code",
   "execution_count": 3,
   "metadata": {
    "execution": {
     "iopub.execute_input": "2024-03-07T11:41:22.989177Z",
     "iopub.status.busy": "2024-03-07T11:41:22.988754Z",
     "iopub.status.idle": "2024-03-07T11:41:23.008970Z",
     "shell.execute_reply": "2024-03-07T11:41:23.008049Z",
     "shell.execute_reply.started": "2024-03-07T11:41:22.989118Z"
    }
   },
   "outputs": [],
   "source": [
    "import os\n",
    "import pandas as pd\n",
    "\n",
    "# Define the directory where images are saved, with each emotional class in a separate folder\n",
    "data_directory = \"/notebooks/AI-for-Media-project-23-24/my-classification-dataset\"\n",
    "\n",
    "# Initialize an empty list to store image data\n",
    "all_data = []\n",
    "\n",
    "# Iterate through each emotional class directory\n",
    "for emotion_class in os.listdir(data_directory):\n",
    "    emotion_dir = os.path.join(data_directory, emotion_class)\n",
    "    if os.path.isdir(emotion_dir):\n",
    "        # Iterate through image files in the emotional class directory\n",
    "        for image_file in os.listdir(emotion_dir):\n",
    "            # Assuming file names contain relevant information\n",
    "            # Extract image URL and other metadata as needed\n",
    "            image_url = os.path.join(emotion_dir, image_file)\n",
    "            # Append extracted data to the list\n",
    "            all_data.append({\"Image URL\": f'file://{image_url}', \"Emotional Class\": emotion_class})\n",
    "\n",
    "# Create a DataFrame from all data\n",
    "df = pd.DataFrame(all_data)\n",
    "\n",
    "# Export the DataFrame to a CSV file\n",
    "csv_file_path = \"emotional-class-datasheet.csv\"\n",
    "df.to_csv(csv_file_path, index=False)"
   ]
  },
  {
   "cell_type": "code",
   "execution_count": 5,
   "metadata": {
    "execution": {
     "iopub.execute_input": "2024-03-07T12:04:51.176824Z",
     "iopub.status.busy": "2024-03-07T12:04:51.176376Z",
     "iopub.status.idle": "2024-03-07T12:04:51.188693Z",
     "shell.execute_reply": "2024-03-07T12:04:51.187748Z",
     "shell.execute_reply.started": "2024-03-07T12:04:51.176778Z"
    }
   },
   "outputs": [
    {
     "data": {
      "text/html": [
       "<div>\n",
       "<style scoped>\n",
       "    .dataframe tbody tr th:only-of-type {\n",
       "        vertical-align: middle;\n",
       "    }\n",
       "\n",
       "    .dataframe tbody tr th {\n",
       "        vertical-align: top;\n",
       "    }\n",
       "\n",
       "    .dataframe thead th {\n",
       "        text-align: right;\n",
       "    }\n",
       "</style>\n",
       "<table border=\"1\" class=\"dataframe\">\n",
       "  <thead>\n",
       "    <tr style=\"text-align: right;\">\n",
       "      <th></th>\n",
       "      <th>Image URL</th>\n",
       "      <th>Emotional Class</th>\n",
       "    </tr>\n",
       "  </thead>\n",
       "  <tbody>\n",
       "    <tr>\n",
       "      <th>0</th>\n",
       "      <td>file:///notebooks/AI-for-Media-project-23-24/m...</td>\n",
       "      <td>disgusted-face</td>\n",
       "    </tr>\n",
       "    <tr>\n",
       "      <th>1</th>\n",
       "      <td>file:///notebooks/AI-for-Media-project-23-24/m...</td>\n",
       "      <td>disgusted-face</td>\n",
       "    </tr>\n",
       "    <tr>\n",
       "      <th>2</th>\n",
       "      <td>file:///notebooks/AI-for-Media-project-23-24/m...</td>\n",
       "      <td>disgusted-face</td>\n",
       "    </tr>\n",
       "    <tr>\n",
       "      <th>3</th>\n",
       "      <td>file:///notebooks/AI-for-Media-project-23-24/m...</td>\n",
       "      <td>disgusted-face</td>\n",
       "    </tr>\n",
       "    <tr>\n",
       "      <th>4</th>\n",
       "      <td>file:///notebooks/AI-for-Media-project-23-24/m...</td>\n",
       "      <td>disgusted-face</td>\n",
       "    </tr>\n",
       "    <tr>\n",
       "      <th>...</th>\n",
       "      <td>...</td>\n",
       "      <td>...</td>\n",
       "    </tr>\n",
       "    <tr>\n",
       "      <th>751</th>\n",
       "      <td>file:///notebooks/AI-for-Media-project-23-24/m...</td>\n",
       "      <td>surprised-face</td>\n",
       "    </tr>\n",
       "    <tr>\n",
       "      <th>752</th>\n",
       "      <td>file:///notebooks/AI-for-Media-project-23-24/m...</td>\n",
       "      <td>surprised-face</td>\n",
       "    </tr>\n",
       "    <tr>\n",
       "      <th>753</th>\n",
       "      <td>file:///notebooks/AI-for-Media-project-23-24/m...</td>\n",
       "      <td>surprised-face</td>\n",
       "    </tr>\n",
       "    <tr>\n",
       "      <th>754</th>\n",
       "      <td>file:///notebooks/AI-for-Media-project-23-24/m...</td>\n",
       "      <td>surprised-face</td>\n",
       "    </tr>\n",
       "    <tr>\n",
       "      <th>755</th>\n",
       "      <td>file:///notebooks/AI-for-Media-project-23-24/m...</td>\n",
       "      <td>surprised-face</td>\n",
       "    </tr>\n",
       "  </tbody>\n",
       "</table>\n",
       "<p>756 rows × 2 columns</p>\n",
       "</div>"
      ],
      "text/plain": [
       "                                             Image URL Emotional Class\n",
       "0    file:///notebooks/AI-for-Media-project-23-24/m...  disgusted-face\n",
       "1    file:///notebooks/AI-for-Media-project-23-24/m...  disgusted-face\n",
       "2    file:///notebooks/AI-for-Media-project-23-24/m...  disgusted-face\n",
       "3    file:///notebooks/AI-for-Media-project-23-24/m...  disgusted-face\n",
       "4    file:///notebooks/AI-for-Media-project-23-24/m...  disgusted-face\n",
       "..                                                 ...             ...\n",
       "751  file:///notebooks/AI-for-Media-project-23-24/m...  surprised-face\n",
       "752  file:///notebooks/AI-for-Media-project-23-24/m...  surprised-face\n",
       "753  file:///notebooks/AI-for-Media-project-23-24/m...  surprised-face\n",
       "754  file:///notebooks/AI-for-Media-project-23-24/m...  surprised-face\n",
       "755  file:///notebooks/AI-for-Media-project-23-24/m...  surprised-face\n",
       "\n",
       "[756 rows x 2 columns]"
      ]
     },
     "execution_count": 5,
     "metadata": {},
     "output_type": "execute_result"
    }
   ],
   "source": [
    "# Verify the DataFrame\n",
    "df"
   ]
  }
 ],
 "metadata": {
  "kernelspec": {
   "display_name": "Python 3 (ipykernel)",
   "language": "python",
   "name": "python3"
  },
  "language_info": {
   "codemirror_mode": {
    "name": "ipython",
    "version": 3
   },
   "file_extension": ".py",
   "mimetype": "text/x-python",
   "name": "python",
   "nbconvert_exporter": "python",
   "pygments_lexer": "ipython3",
   "version": "3.9.16"
  }
 },
 "nbformat": 4,
 "nbformat_minor": 4
}
